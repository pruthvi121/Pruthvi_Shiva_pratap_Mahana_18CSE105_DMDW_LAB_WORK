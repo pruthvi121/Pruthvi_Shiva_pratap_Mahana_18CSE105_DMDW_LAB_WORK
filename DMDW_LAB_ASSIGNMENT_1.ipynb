{
  "nbformat": 4,
  "nbformat_minor": 0,
  "metadata": {
    "colab": {
      "name": "DMDW_LAB_ASSIGNMENT-1",
      "provenance": [],
      "collapsed_sections": [],
      "authorship_tag": "ABX9TyNE232UhXzDnJyTOeZjfptM",
      "include_colab_link": true
    },
    "kernelspec": {
      "name": "python3",
      "display_name": "Python 3"
    }
  },
  "cells": [
    {
      "cell_type": "markdown",
      "metadata": {
        "id": "view-in-github",
        "colab_type": "text"
      },
      "source": [
        "<a href=\"https://colab.research.google.com/github/pruthvi121/Pruthvi_Shiva_pratap_Mahana_18CSE105_DMDW_LAB_WORK/blob/main/DMDW_LAB_ASSIGNMENT_1.ipynb\" target=\"_parent\"><img src=\"https://colab.research.google.com/assets/colab-badge.svg\" alt=\"Open In Colab\"/></a>"
      ]
    },
    {
      "cell_type": "markdown",
      "metadata": {
        "id": "BsOBu_RJsLt5"
      },
      "source": [
        "**Q1.A python code for finding mean,median and mode with and without using library functions.**"
      ]
    },
    {
      "cell_type": "code",
      "metadata": {
        "colab": {
          "base_uri": "https://localhost:8080/"
        },
        "id": "HYPy2Vh-r83Q",
        "outputId": "604dafb4-cdc3-4657-af8d-60451aec6238"
      },
      "source": [
        "\"\"\" a python program for finding mean,median and mode without using library functions \"\"\"\n",
        "list1=[]\n",
        "n=int(input(\"Enter number of elements you want in yor list:-\"))\n",
        "for i in range(0,n):\n",
        "  elmnt=int(input())\n",
        "  list1.append(elmnt)\n",
        "\n",
        "\n",
        "\n",
        "#finding out mean\n",
        "\n",
        "\n",
        "num_sum = sum(list1)\n",
        "mean = num_sum / len(list1)\n",
        "print(list1)\n",
        "print(\"Mean of above list:\" + str(round(mean,2)))\n",
        "\n",
        "\n",
        "\n",
        "\n",
        "#finding out median\n",
        "\n",
        "\n",
        "list1.sort()\n",
        "if len(list1) % 2 == 0:\n",
        "   first_median = list1[len(list1) // 2]\n",
        "   second_median = list1[len(list1) // 2 - 1]\n",
        "   median = (first_median + second_median) / 2\n",
        "else:\n",
        "   median = list1[len(list1) // 2]\n",
        "print(list1)\n",
        "print(\"Median of above list: \" + str(median))\n",
        "\n",
        "#finding out mode\n",
        "\n",
        "L1=[] \n",
        "    \n",
        "j = 0\n",
        "while j < len(list1) : \n",
        "    L1.append(list1.count(list1[j])) \n",
        "    j += 1\n",
        "  \n",
        "d1 = dict(zip(list1, L1)) \n",
        "  \n",
        "d2={k for (k,v) in d1.items() if v == max(L1) } \n",
        "  \n",
        "print(\"Mode(s) is/are :\" + str(d2))"
      ],
      "execution_count": 1,
      "outputs": [
        {
          "output_type": "stream",
          "text": [
            "Enter number of elements you want in yor list:-12\n",
            "11\n",
            "8\n",
            "8\n",
            "3\n",
            "4\n",
            "4\n",
            "5\n",
            "6\n",
            "6\n",
            "6\n",
            "7\n",
            "8\n",
            "[11, 8, 8, 3, 4, 4, 5, 6, 6, 6, 7, 8]\n",
            "Mean of above list:6.33\n",
            "[3, 4, 4, 5, 6, 6, 6, 7, 8, 8, 8, 11]\n",
            "Median of above list: 6.0\n",
            "Mode(s) is/are :{8, 6}\n"
          ],
          "name": "stdout"
        }
      ]
    },
    {
      "cell_type": "code",
      "metadata": {
        "colab": {
          "base_uri": "https://localhost:8080/",
          "height": 615
        },
        "id": "75o3iBoVtA8E",
        "outputId": "7bda0795-9d85-4f2a-b59b-81277f212e51"
      },
      "source": [
        "\"\"\" a python program for finding mean,median and mode using library functions \"\"\"\n",
        "import statistics\n",
        "list1=[]\n",
        "n=int(input(\"Enter number of elements you want in yor list:-\"))\n",
        "for i in range(0,n):\n",
        "  elmnt=int(input())\n",
        "  list1.append(elmnt)\n",
        "print(\"Entered values in the list:\", str(list1))\n",
        "\n",
        "#finding out mean\n",
        "\n",
        "print(statistics.mean(list1))\n",
        "\n",
        "#finding out median\n",
        "\n",
        "print(statistics.median(list1))\n",
        "\n",
        "#finding out mode\n",
        "\"\"\"it will show only for unique highest count\"\"\"\n",
        "print(statistics.mode(list1))\n",
        "\n",
        "print(statistics.multimode(list1))\n",
        "\"\"\"^^^^^^^only for python 3.8 and above^^^^^^^\"\"\""
      ],
      "execution_count": 2,
      "outputs": [
        {
          "output_type": "stream",
          "text": [
            "Enter number of elements you want in yor list:-12\n",
            "11\n",
            "8\n",
            "8\n",
            "3\n",
            "4\n",
            "4\n",
            "5\n",
            "6\n",
            "6\n",
            "6\n",
            "7\n",
            "8\n",
            "Entered values in the list: [11, 8, 8, 3, 4, 4, 5, 6, 6, 6, 7, 8]\n",
            "6.333333333333333\n",
            "6.0\n"
          ],
          "name": "stdout"
        },
        {
          "output_type": "error",
          "ename": "StatisticsError",
          "evalue": "ignored",
          "traceback": [
            "\u001b[0;31m---------------------------------------------------------------------------\u001b[0m",
            "\u001b[0;31mStatisticsError\u001b[0m                           Traceback (most recent call last)",
            "\u001b[0;32m<ipython-input-2-3bbb42dc3e92>\u001b[0m in \u001b[0;36m<module>\u001b[0;34m()\u001b[0m\n\u001b[1;32m     18\u001b[0m \u001b[0;31m#finding out mode\u001b[0m\u001b[0;34m\u001b[0m\u001b[0;34m\u001b[0m\u001b[0;34m\u001b[0m\u001b[0m\n\u001b[1;32m     19\u001b[0m \u001b[0;34m\"\"\"it will show only for unique highest count\"\"\"\u001b[0m\u001b[0;34m\u001b[0m\u001b[0;34m\u001b[0m\u001b[0m\n\u001b[0;32m---> 20\u001b[0;31m \u001b[0mprint\u001b[0m\u001b[0;34m(\u001b[0m\u001b[0mstatistics\u001b[0m\u001b[0;34m.\u001b[0m\u001b[0mmode\u001b[0m\u001b[0;34m(\u001b[0m\u001b[0mlist1\u001b[0m\u001b[0;34m)\u001b[0m\u001b[0;34m)\u001b[0m\u001b[0;34m\u001b[0m\u001b[0;34m\u001b[0m\u001b[0m\n\u001b[0m\u001b[1;32m     21\u001b[0m \u001b[0;34m\u001b[0m\u001b[0m\n\u001b[1;32m     22\u001b[0m \u001b[0mprint\u001b[0m\u001b[0;34m(\u001b[0m\u001b[0mstatistics\u001b[0m\u001b[0;34m.\u001b[0m\u001b[0mmultimode\u001b[0m\u001b[0;34m(\u001b[0m\u001b[0mlist1\u001b[0m\u001b[0;34m)\u001b[0m\u001b[0;34m)\u001b[0m\u001b[0;34m\u001b[0m\u001b[0;34m\u001b[0m\u001b[0m\n",
            "\u001b[0;32m/usr/lib/python3.6/statistics.py\u001b[0m in \u001b[0;36mmode\u001b[0;34m(data)\u001b[0m\n\u001b[1;32m    505\u001b[0m     \u001b[0;32melif\u001b[0m \u001b[0mtable\u001b[0m\u001b[0;34m:\u001b[0m\u001b[0;34m\u001b[0m\u001b[0;34m\u001b[0m\u001b[0m\n\u001b[1;32m    506\u001b[0m         raise StatisticsError(\n\u001b[0;32m--> 507\u001b[0;31m                 \u001b[0;34m'no unique mode; found %d equally common values'\u001b[0m \u001b[0;34m%\u001b[0m \u001b[0mlen\u001b[0m\u001b[0;34m(\u001b[0m\u001b[0mtable\u001b[0m\u001b[0;34m)\u001b[0m\u001b[0;34m\u001b[0m\u001b[0;34m\u001b[0m\u001b[0m\n\u001b[0m\u001b[1;32m    508\u001b[0m                 )\n\u001b[1;32m    509\u001b[0m     \u001b[0;32melse\u001b[0m\u001b[0;34m:\u001b[0m\u001b[0;34m\u001b[0m\u001b[0;34m\u001b[0m\u001b[0m\n",
            "\u001b[0;31mStatisticsError\u001b[0m: no unique mode; found 2 equally common values"
          ]
        }
      ]
    },
    {
      "cell_type": "markdown",
      "metadata": {
        "id": "rJCutdQOt27O"
      },
      "source": [
        "**Q2.A python code for finding standard deviation and variance with and without using library functions.**"
      ]
    },
    {
      "cell_type": "code",
      "metadata": {
        "colab": {
          "base_uri": "https://localhost:8080/"
        },
        "id": "_jLnGTXAtWoA",
        "outputId": "3e4728ea-3196-40fe-8328-d182a082a9fb"
      },
      "source": [
        "\"\"\" a python program for finding standard deviation and variance without using library functions \"\"\"\n",
        "\n",
        "list1=[]\n",
        "n=int(input(\"Enter number of elements you want in yor list:-\"))\n",
        "for i in range(0,n):\n",
        "  elmnt=int(input())\n",
        "  list1.append(elmnt)\n",
        "\n",
        "#for finding the variance\n",
        "\n",
        "ddof=0\n",
        "ddof1=1\n",
        "n = len(list1)\n",
        "mean = sum(list1) / n\n",
        "s1=sum((x - mean) ** 2 for x in list1) / (n - ddof)\n",
        "s2=sum((x - mean) ** 2 for x in list1) / (n - ddof1)\n",
        "print(list1)\n",
        "print(\"Variance of the given values:\",s1)\n",
        "print(\"Estimation value for Variance of the given values:\",s2)\n",
        "\n",
        "#for finding the standard deviation\n",
        "\n",
        "var = s1\n",
        "var1 = s2\n",
        "stand_dev = (var)**(1/2)\n",
        "stand_dev1 = (var1)**(1/2)\n",
        "print(\"Standard Deviation of the given values:\",stand_dev)\n",
        "print(\"Estimation value for Standard Deviation of the given values:\",stand_dev1)\n",
        "\n"
      ],
      "execution_count": 3,
      "outputs": [
        {
          "output_type": "stream",
          "text": [
            "Enter number of elements you want in yor list:-10\n",
            "4\n",
            "8\n",
            "6\n",
            "5\n",
            "3\n",
            "2\n",
            "8\n",
            "9\n",
            "2\n",
            "5\n",
            "[4, 8, 6, 5, 3, 2, 8, 9, 2, 5]\n",
            "Variance of the given values: 5.76\n",
            "Estimation value for Variance of the given values: 6.4\n",
            "Standard Deviation of the given values: 2.4\n",
            "Estimation value for Standard Deviation of the given values: 2.5298221281347035\n"
          ],
          "name": "stdout"
        }
      ]
    },
    {
      "cell_type": "code",
      "metadata": {
        "colab": {
          "base_uri": "https://localhost:8080/"
        },
        "id": "LfuH9EMluEpT",
        "outputId": "c4d3bc76-35f8-4aa3-a452-2a4eb4f182b7"
      },
      "source": [
        "\"\"\" a python program for finding mean,median and mode using library functions \"\"\"\n",
        "import statistics\n",
        "\n",
        "list1=[]\n",
        "n=int(input(\"Enter number of elements you want in yor list:-\"))\n",
        "for i in range(0,n):\n",
        "  elmnt=int(input())\n",
        "  list1.append(elmnt)\n",
        "print(list1)\n",
        "\n",
        "print(\"Variance of the given values:\",statistics.pvariance(list1))\n",
        "\n",
        "print(\"Estimation value for Variance of the given values:\",statistics.variance(list1))\n",
        "\n",
        "print(\"Standard Deviation of the given values:\",statistics.pstdev(list1))\n",
        "\n",
        "print(\"Estimation value for Standard Deviation of the given values:\",statistics.stdev(list1))"
      ],
      "execution_count": 5,
      "outputs": [
        {
          "output_type": "stream",
          "text": [
            "Enter number of elements you want in yor list:-10\n",
            "4\n",
            "8\n",
            "6\n",
            "5\n",
            "3\n",
            "2\n",
            "8\n",
            "9\n",
            "2\n",
            "5\n",
            "[4, 8, 6, 5, 3, 2, 8, 9, 2, 5]\n",
            "Variance of the given values: 5.760000000000001\n",
            "Estimation value for Variance of the given values: 6.4\n",
            "Standard Deviation of the given values: 2.4000000000000004\n",
            "Estimation value for Standard Deviation of the given values: 2.5298221281347035\n"
          ],
          "name": "stdout"
        }
      ]
    },
    {
      "cell_type": "markdown",
      "metadata": {
        "id": "DQirYzuAu_PZ"
      },
      "source": [
        "\n",
        "**Q3.Some basic practice problems on python programs with List,Tuple,Dictionary & String, Sets,etc.**"
      ]
    },
    {
      "cell_type": "markdown",
      "metadata": {
        "id": "VMtTx69xvMUr"
      },
      "source": [
        "**1.Lists basic**"
      ]
    },
    {
      "cell_type": "code",
      "metadata": {
        "colab": {
          "base_uri": "https://localhost:8080/"
        },
        "id": "KdSu_wJUurhP",
        "outputId": "4173b588-2f6a-48f5-c3e7-879ebbfa762b"
      },
      "source": [
        "def listex():\n",
        "  l1=[1,10,\"Madhu\",\"Raju\"]\n",
        "  print(\"length\",len(l1))\n",
        "  l1.append(56)\n",
        "  l2=[5,6,99,1,10,20]\n",
        "  l2.sort()\n",
        "  print(\"Sorting:\",l2)\n",
        "  l2.remove(6)\n",
        "  print(\"Remove the element 6:\",l2)\n",
        "  del l1[1]\n",
        "  print(\"Delete 1st index\",l1)\n",
        "  l1.insert(2,999)\n",
        "  print(\"Insert a value at 2nd Index\",l1)\n",
        "  print(\"count:\",l1.count('Madhu'))\n",
        "  l2=[10,20,30]\n",
        "  print(\"merging l1,l2\",l1+l2)\n",
        "  str=\"Hai\"\n",
        "  print(\"Hello\"+str)\n",
        "  print(\"Multiplying:\",l1*3)\n",
        "  if 10 in l1:\n",
        "    print(\"The value is available\")\n",
        "  else:\n",
        "    print(\"Value not available\")\n",
        "  if 10 not in l1:\n",
        "    print(\"The value is not available\")\n",
        "  else:\n",
        "    print(\"The value is available\")\n",
        "listex()\n",
        "\n",
        "def listex1():\n",
        "    l11=[1,10,\"Madhu\",\"Raju\"]\n",
        "    rl=[]\n",
        "    for j in l11[::-1]:\n",
        "        rl.append(j)\n",
        "    print(rl)\n",
        "    l11.reverse()\n",
        "    print(l11)\n",
        "listex1()\n",
        "def listex2():\n",
        "    l22=[1,1,2,3,4,5,6,7,8,7,7,6]\n",
        "    l=[]\n",
        "    for k in l22:\n",
        "        if k not in l:\n",
        "            l.append(k)\n",
        "    print(l)\n",
        "listex2()"
      ],
      "execution_count": 6,
      "outputs": [
        {
          "output_type": "stream",
          "text": [
            "length 4\n",
            "Sorting: [1, 5, 6, 10, 20, 99]\n",
            "Remove the element 6: [1, 5, 10, 20, 99]\n",
            "Delete 1st index [1, 'Madhu', 'Raju', 56]\n",
            "Insert a value at 2nd Index [1, 'Madhu', 999, 'Raju', 56]\n",
            "count: 1\n",
            "merging l1,l2 [1, 'Madhu', 999, 'Raju', 56, 10, 20, 30]\n",
            "HelloHai\n",
            "Multiplying: [1, 'Madhu', 999, 'Raju', 56, 1, 'Madhu', 999, 'Raju', 56, 1, 'Madhu', 999, 'Raju', 56]\n",
            "Value not available\n",
            "The value is not available\n",
            "['Raju', 'Madhu', 10, 1]\n",
            "['Raju', 'Madhu', 10, 1]\n",
            "[1, 2, 3, 4, 5, 6, 7, 8]\n"
          ],
          "name": "stdout"
        }
      ]
    },
    {
      "cell_type": "markdown",
      "metadata": {
        "id": "ZQjQ0Nv4veEM"
      },
      "source": [
        "**2.Tuples Basic**"
      ]
    },
    {
      "cell_type": "code",
      "metadata": {
        "colab": {
          "base_uri": "https://localhost:8080/"
        },
        "id": "h9eq4A4jvZB3",
        "outputId": "8bd5a295-32ae-483e-bc32-ba4cfec8fd65"
      },
      "source": [
        "def tuplex():\n",
        "  t1=(10,20,\"Raju\",\"Sinu\")\n",
        "  print(\"Elements in t1:\",t1)\n",
        "  t2=(20,30,40,50)\n",
        "  t3=t1+t2\n",
        "  print(\"Merge:\",t3)\n",
        "  print(\"Slice:\",t1[1:3])\n",
        "  print(\"Slice:\",t2[0:-1])\n",
        "  print(\"Multiply:\",t1*3)\n",
        "tuplex()"
      ],
      "execution_count": 7,
      "outputs": [
        {
          "output_type": "stream",
          "text": [
            "Elements in t1: (10, 20, 'Raju', 'Sinu')\n",
            "Merge: (10, 20, 'Raju', 'Sinu', 20, 30, 40, 50)\n",
            "Slice: (20, 'Raju')\n",
            "Slice: (20, 30, 40)\n",
            "Multiply: (10, 20, 'Raju', 'Sinu', 10, 20, 'Raju', 'Sinu', 10, 20, 'Raju', 'Sinu')\n"
          ],
          "name": "stdout"
        }
      ]
    },
    {
      "cell_type": "markdown",
      "metadata": {
        "id": "yUXMNMvUv4bS"
      },
      "source": [
        "3.Dictionary Basics"
      ]
    },
    {
      "cell_type": "code",
      "metadata": {
        "colab": {
          "base_uri": "https://localhost:8080/"
        },
        "id": "Zf257Nzdv7kb",
        "outputId": "4c9273c0-ce4d-44ab-b871-031f2413e720"
      },
      "source": [
        "def dictex():\n",
        "  d1={1:10,2:20,3:30,4:40,1:100}\n",
        "  print(d1)\n",
        "  print(\"Keys:\",d1.keys())\n",
        "  print(\"Value:\",d1.values())\n",
        "  print(d1[1])\n",
        "\n",
        "dictex()\n"
      ],
      "execution_count": 8,
      "outputs": [
        {
          "output_type": "stream",
          "text": [
            "{1: 100, 2: 20, 3: 30, 4: 40}\n",
            "Keys: dict_keys([1, 2, 3, 4])\n",
            "Value: dict_values([100, 20, 30, 40])\n",
            "100\n"
          ],
          "name": "stdout"
        }
      ]
    },
    {
      "cell_type": "markdown",
      "metadata": {
        "id": "OPYCI1gywFbr"
      },
      "source": [
        "**4. String Basics**"
      ]
    },
    {
      "cell_type": "code",
      "metadata": {
        "colab": {
          "base_uri": "https://localhost:8080/"
        },
        "id": "WMAvLRhOwCAx",
        "outputId": "bd73ecbc-2c70-4328-f5a7-4cde0960eaf8"
      },
      "source": [
        "print(\"len:\",len(\"Hai\"))\n",
        "print(\"Hai,\"+\"How are you\")\n",
        "print(\"Hai\"*4)\n",
        "print('Hai\\\\How')\n",
        "if 's' in \"Sataya\":\n",
        "  print(\"True\")\n",
        "else:\n",
        "  print(\"False\")\n",
        "if 'j' in \"satya\":\n",
        "  print(\"True\")\n",
        "else:\n",
        "  print(\"False\")\n",
        "S=\"satya\"\n",
        "print(S.find('sa'))\n",
        "print(S.find('a'))\n",
        "print(S.find('a',2,4))\n",
        "print(S.find('a',2,3))\n",
        "print(S.index('sa'))\n",
        "print(S.index('t',2,4))\n",
        "s1=\"abcabcab\"\n",
        "s2=s1.replace('a','cd')\n",
        "print(s1,'\\n',s2)\n",
        "print(\"id of s1\",id(s1))\n",
        "print(\"id of s2\",id(s2))\n",
        "s3=\"Hai Bye\"\n",
        "s4=s3.upper()\n",
        "s5=s3.lower()\n",
        "s6=s3.swapcase()\n",
        "s7=s3.title()\n",
        "s8=s3.capitalize()\n",
        "print(s4)\n",
        "print(s5)\n",
        "print(s6)\n",
        "print(s7)\n",
        "print(s8)\n"
      ],
      "execution_count": 9,
      "outputs": [
        {
          "output_type": "stream",
          "text": [
            "len: 3\n",
            "Hai,How are you\n",
            "HaiHaiHaiHai\n",
            "Hai\\How\n",
            "False\n",
            "False\n",
            "0\n",
            "1\n",
            "-1\n",
            "-1\n",
            "0\n",
            "2\n",
            "abcabcab \n",
            " cdbccdbccdb\n",
            "id of s1 140650575907056\n",
            "id of s2 140650575460912\n",
            "HAI BYE\n",
            "hai bye\n",
            "hAI bYE\n",
            "Hai Bye\n",
            "Hai bye\n"
          ],
          "name": "stdout"
        }
      ]
    },
    {
      "cell_type": "markdown",
      "metadata": {
        "id": "88bLxhygwtV9"
      },
      "source": [
        "**5. Sets Basic**"
      ]
    },
    {
      "cell_type": "code",
      "metadata": {
        "colab": {
          "base_uri": "https://localhost:8080/"
        },
        "id": "KRXavhGewp1T",
        "outputId": "c7481f33-f54a-44b4-924c-125494c32bbb"
      },
      "source": [
        "\n",
        "s1={10,20,\"Hai\",20}\n",
        "s2={20,30,\"Hai\"}\n",
        "print(\"Union\",s1.union(s2))\n",
        "print(\"Intersection\",s1.intersection(s2))\n",
        "print(\"Difference\",s1.difference(s2))\n",
        "print(\"Difference\",s2.difference(s1))\n",
        "print(\"Symmetric Difference\",s1.symmetric_difference(s2))\n",
        "print(\"Union\",s1|s2)\n",
        "print(\"Inter\",s1&s2)\n",
        "print(\"Diff\",s1-s2)\n",
        "print(\"Symmetric Diff\",s1^s2)\n",
        "s3={10,20,40}\n",
        "s4=s3\n",
        "s5=s3.copy()\n",
        "s3.clear()\n",
        "s4.add(100)\n",
        "s5.add(200)\n",
        "print(\"clear:\",s3)\n",
        "print(100 in s4)\n",
        "print(100 not in s4)\n",
        "print(200 in s5)\n",
        "print(200 not in s5)\n",
        "print(200 in s4)\n",
        "print(200 not in s4)\n",
        "print(100 in s5)\n",
        "print(100 not in s5)"
      ],
      "execution_count": 10,
      "outputs": [
        {
          "output_type": "stream",
          "text": [
            "Union {20, 'Hai', 10, 30}\n",
            "Intersection {20, 'Hai'}\n",
            "Difference {10}\n",
            "Difference {30}\n",
            "Symmetric Difference {10, 30}\n",
            "Union {20, 'Hai', 10, 30}\n",
            "Inter {20, 'Hai'}\n",
            "Diff {10}\n",
            "Symmetric Diff {10, 30}\n",
            "clear: {100}\n",
            "True\n",
            "False\n",
            "True\n",
            "False\n",
            "False\n",
            "True\n",
            "False\n",
            "True\n"
          ],
          "name": "stdout"
        }
      ]
    },
    {
      "cell_type": "code",
      "metadata": {
        "id": "BDzzJao-w5ba"
      },
      "source": [
        ""
      ],
      "execution_count": null,
      "outputs": []
    }
  ]
}